{
 "cells": [
  {
   "cell_type": "code",
   "execution_count": null,
   "id": "206ebc09",
   "metadata": {},
   "outputs": [],
   "source": [
    "from flask import Flask, render_template, request, url_for\n",
    "import sys, ast, os, json\n",
    "import pandas as pd\n",
    "import matplotlib.pyplot as plt\n",
    "from textblob import TextBlob\n",
    "import seaborn as sns\n",
    "import numpy as np\n",
    "from gensim.models import Word2Vec\n",
    "from sklearn.decomposition import PCA\n",
    "from sklearn.manifold import TSNE\n",
    "import itertools\n",
    "import collections\n",
    "from nltk import bigrams\n",
    "import networkx as nx\n",
    "import re\n",
    "import nltk\n",
    "import plotly\n",
    "import plotly.express as px\n",
    "import plotly.graph_objects as go"
   ]
  },
  {
   "cell_type": "code",
   "execution_count": null,
   "id": "576e8359",
   "metadata": {},
   "outputs": [],
   "source": [
    "# nltk.download('punkt')\n",
    "# nltk.download('stopwords')\n",
    "# nltk.download('wordnet')"
   ]
  },
  {
   "cell_type": "code",
   "execution_count": null,
   "id": "441294ab",
   "metadata": {},
   "outputs": [],
   "source": [
    "app = Flask(__name__)\n",
    "app.config['IMAGES_PATH'] = os.path.join('static', 'images')"
   ]
  },
  {
   "cell_type": "code",
   "execution_count": null,
   "id": "2f6d3631",
   "metadata": {},
   "outputs": [],
   "source": [
    "def clean_tweet(tweet):\n",
    "    #Step 1 - drop links\n",
    "    regex = re.compile(r'https?://t.co/[a-zA-Z0-9]{10}')\n",
    "    remove_links = re.split(regex,tweet)\n",
    "    remove_links = ' '.join(remove_links)\n",
    "    \n",
    "    #Step 2 - Remove any non-ascii characters\n",
    "    remove_non_ascii =  re.sub(r'[^\\x00-\\x7F]+',' ', remove_links).lower()\n",
    "\n",
    "    #Step 3 - check for apostrophes\n",
    "    remove_apostroph = remove_non_ascii.replace(\"'s\",\"\")\n",
    "    remove_apostroph = remove_apostroph.replace(\"'\",\"\")\n",
    "    remove_apostroph = remove_apostroph.split(' ')\n",
    "    \n",
    "    #Step 4 - Remove dashes\n",
    "    remove_dashes = ' '.join(remove_apostroph).split('-')\n",
    "    remove_dashes = ' '.join(remove_dashes)\n",
    "\n",
    "    #Step 5 - Keep letters and digits only\n",
    "    keep_letters =  re.sub(r'[^a-zA-Z0-9]',' ', remove_dashes)\n",
    "\n",
    "    keep_letters = keep_letters.split(' ')\n",
    "\n",
    "    keep_letters = ' '.join(keep_letters)\n",
    "\n",
    "    #Step 6 - Tokenize \n",
    "    tokenize = nltk.word_tokenize(keep_letters)\n",
    "\n",
    "    #Step 7 - Lemmatize    \n",
    "    lemmatizer= nltk.stem.wordnet.WordNetLemmatizer()\n",
    "    lemmatize_text = map(lambda x: lemmatizer.lemmatize(x), tokenize)\n",
    "\n",
    "    #Step 8 - Remove stop words\n",
    "    stopwords = set(nltk.corpus.stopwords.words('english'))\n",
    "    remove_stop = list(filter(lambda x: x not in stopwords, lemmatize_text))\n",
    "\n",
    "    #Step 9 - Remove any empty strings from list\n",
    "    processed_list = list(filter(lambda a: a != \"\", remove_stop))\n",
    "\n",
    "    processed_string = \" \".join(processed_list)\n",
    "\n",
    "    return processed_string\n",
    "\n",
    "def sent_to_list(sentence):\n",
    "    return sentence.split(\" \")\n",
    "\n",
    "def sentiment_analyze(polarity):\n",
    "    if (polarity < 0.1 and polarity > -0.1): return 'neutral'\n",
    "    elif polarity >= 0.1: return 'positive'\n",
    "    else: return 'negative'"
   ]
  },
  {
   "cell_type": "code",
   "execution_count": null,
   "id": "ce2b15f9",
   "metadata": {},
   "outputs": [],
   "source": [
    "df = pd.read_csv('dataset/final_tweets.csv')\n",
    "df['Year'] = df['Date'].apply(lambda r: r.split('/')[2])\n",
    "df = df[df['Year'] == '2021']\n",
    "df.drop(columns=['Year'], inplace=True)\n",
    "df['Date'] = df['Date'].apply(lambda r: r.split('/')[0])\n",
    "df['Tweet'] = df['Tweet'].apply(lambda tweet: clean_tweet(tweet))\n",
    "df['Words_list'] = df['Tweet'].apply(lambda tweet: sent_to_list(tweet))\n",
    "\n",
    "sentiment_objs = [TextBlob(tweet) for tweet in df['Tweet']]\n",
    "all_senti =[tweet.sentiment.polarity for tweet in sentiment_objs]\n",
    "sentiment_vals = [[tweet.sentiment.polarity, str(tweet)] for tweet in sentiment_objs]\n",
    "sentiment_df = pd.DataFrame(sentiment_vals, columns=[\"polarity\", \"tweet\"])\n",
    "\n",
    "neg = sentiment_df['polarity'].astype('float')\n",
    "neg = neg[neg <= -0.1]\n",
    "\n",
    "pos = sentiment_df['polarity'].astype('float')\n",
    "pos = pos[pos >= 0.1]\n",
    "\n",
    "neut = sentiment_df['polarity'].astype('float')\n",
    "neut = neut[neut > -0.1]\n",
    "neut = neut[neut < 0.1]\n",
    "df['Sentiment'] = sentiment_df['polarity']\n",
    "df['Sentiment'] = df['Sentiment'].apply(lambda x: sentiment_analyze(x))\n",
    "\n",
    "df1 = df\n",
    "polarity_by_month = df1[['Date','Tweet','Sentiment']].groupby(['Date','Sentiment'])['Tweet'].count().reset_index().rename(columns={'Tweet':'Tweet_Count'})\n",
    "\n",
    "keywords_by_date = df[['Keyword', 'Date']]\n",
    "keywords_by_date = keywords_by_date[['Keyword', 'Date']].groupby(['Date', 'Keyword'])['Keyword'].count()\n",
    "\n",
    "count = 0\n",
    "month = 0\n",
    "final_vals = []\n",
    "for i in range(0,len(keywords_by_date)):\n",
    "  keyword = \"Covid\" if count%2==0 else \"Corona\"\n",
    "  month = month + 1 if count%2==0 else month\n",
    "  count = count + 1\n",
    "  counts = keywords_by_date[i]\n",
    "  current = [month, keyword, counts]\n",
    "  final_vals.append(current)\n",
    "\n",
    "df2 = pd.DataFrame(final_vals, columns=['Month', 'Keyword', 'Keyword_Count'])\n",
    "w2v_model = Word2Vec()\n",
    "w2v_model.build_vocab(df['Words_list'].tolist())\n",
    "w2v_model.train(df['Words_list'].tolist(), total_examples=w2v_model.corpus_count, epochs=30, report_delay=1)\n",
    "\n",
    "bigram_terms = [list(bigrams(tweet)) for tweet in df['Words_list'].tolist()]"
   ]
  },
  {
   "cell_type": "code",
   "execution_count": null,
   "id": "01fec105",
   "metadata": {},
   "outputs": [],
   "source": [
    "tweet_polarity = px.bar(df,\n",
    "                          x=['Positive', 'Neutral', 'Negative'],\n",
    "                          y=[len(pos), len(neut), len(neg)],\n",
    "                          labels = {'x':'Distribution of Sentiments', 'y':'Number of Tweets'}\n",
    "                        )\n",
    "tw_polarity = px.line(polarity_by_month, x='Date', y='Tweet_Count', color='Sentiment', color_discrete_sequence=['brown','orange','green'])\n",
    "f = px.line(df2, x='Month', y='Keyword_Count', color='Keyword', color_discrete_sequence=['brown', 'magenta'])"
   ]
  },
  {
   "cell_type": "code",
   "execution_count": null,
   "id": "0d37b19a",
   "metadata": {},
   "outputs": [],
   "source": [
    "sentiments = {'positive': 0,'negative': 0, 'total': 0}\n",
    "hashtag_counts = {'words': ['#SocialDistancing'], 'counts': [16]}\n",
    "word_counts = {'words': ['COVID19', 'Quarantine'], 'counts': [16, 50]}"
   ]
  },
  {
   "cell_type": "code",
   "execution_count": null,
   "id": "d734b05e",
   "metadata": {},
   "outputs": [],
   "source": [
    "@app.route(\"/\", methods=['GET', 'POST'])\n",
    "def home_page():\n",
    "    graph1JSON = json.dumps(tweet_polarity, cls=plotly.utils.PlotlyJSONEncoder)\n",
    "    graph2JSON = json.dumps(tw_polarity, cls=plotly.utils.PlotlyJSONEncoder)\n",
    "    graph3JSON = json.dumps(f, cls=plotly.utils.PlotlyJSONEncoder)\n",
    "    return render_template('blockcontent.html',\n",
    "                           graph1JSON = graph1JSON, \n",
    "                           graph2JSON = graph2JSON, \n",
    "                           graph3JSON = graph3JSON)"
   ]
  },
  {
   "cell_type": "code",
   "execution_count": null,
   "id": "f6b1d729",
   "metadata": {},
   "outputs": [],
   "source": [
    "@app.route(\"/real-time\")\n",
    "def realTime_page():\n",
    "    global sentiments\n",
    "    global hashtag_counts\n",
    "    global word_counts\n",
    "    global geodata\n",
    "    global graphJSON\n",
    "\n",
    "    print(\"word count variable\", file=sys.stderr)\n",
    "    print(word_counts, file=sys.stderr)\n",
    "    print(\"hashtag variable\", file=sys.stderr)\n",
    "    print(hashtag_counts, file=sys.stderr)\n",
    "    print(hashtag_counts['words'], file=sys.stderr)\n",
    "    \n",
    "    wc = dict(zip(hashtag_counts['words'], hashtag_counts['counts']))\n",
    "\n",
    "\n",
    "    return render_template(\n",
    "            'index.html',\n",
    "            sentiments=sentiments,\n",
    "            wordcounts=word_counts,\n",
    "            hashtagcounts=hashtag_counts)"
   ]
  },
  {
   "cell_type": "code",
   "execution_count": null,
   "id": "2365e008",
   "metadata": {},
   "outputs": [],
   "source": [
    "@app.route('/real-time/update_sentiments', methods=['POST'])\n",
    "def update_sentiments():\n",
    "    global sentiments\n",
    "\n",
    "    print(request.form)\n",
    "\n",
    "    sentiments['positive'] = ast.literal_eval(request.form['positive'])\n",
    "    sentiments['neutral'] = ast.literal_eval(request.form['neutral'])\n",
    "    sentiments['negative'] = ast.literal_eval(request.form['negative'])\n",
    "    sentiments['total'] = ast.literal_eval(request.form['total'])\n",
    "\n",
    "    if sentiments['total'] > 0:\n",
    "        sentiments['positive'] = round(100 * sentiments['positive'] / sentiments['total'], 2)\n",
    "        sentiments['neutral'] = round(100 * sentiments['neutral'] / sentiments['total'], 2)\n",
    "        sentiments['negative'] = round(100 * sentiments['negative'] / sentiments['total'], 2)\n",
    "\n",
    "    return \"success\", 200"
   ]
  },
  {
   "cell_type": "code",
   "execution_count": null,
   "id": "980e912b",
   "metadata": {},
   "outputs": [],
   "source": [
    "@app.route('/real-time/update_counts', methods=['POST'])\n",
    "def update_counts():\n",
    "    global word_counts\n",
    "    \n",
    "    print(request.form)\n",
    "    \n",
    "    word_counts['words'] = ast.literal_eval(request.form['words'])\n",
    "    word_counts['counts'] = ast.literal_eval(request.form['counts'])\n",
    "    print(\"Updated word counts - \",  word_counts)\n",
    "    return \"success\", 200"
   ]
  },
  {
   "cell_type": "code",
   "execution_count": null,
   "id": "de1faedf",
   "metadata": {},
   "outputs": [],
   "source": [
    "@app.route('/real-time/update_hashtagcounts', methods=['POST'])\n",
    "def update_hashtagcounts():\n",
    "    global hashtag_counts\n",
    "    \n",
    "    print(request.form)\n",
    "    \n",
    "    hashtag_counts['words'] = ast.literal_eval(request.form['words'])\n",
    "    hashtag_counts['counts'] = ast.literal_eval(request.form['counts'])\n",
    "    print(\"Updated hashtag counts - \",  hashtag_counts)\n",
    "    return \"success\", 200"
   ]
  },
  {
   "cell_type": "code",
   "execution_count": null,
   "id": "0fd3351a",
   "metadata": {},
   "outputs": [],
   "source": [
    "@app.route('/real-time/word_counts', methods=['GET'])\n",
    "def refresh_counts():\n",
    "    global word_counts\n",
    "    output = json.dumps(word_counts)\n",
    "    print(output)\n",
    "    return output"
   ]
  },
  {
   "cell_type": "code",
   "execution_count": null,
   "id": "db4dd0cf",
   "metadata": {},
   "outputs": [],
   "source": [
    "@app.route('/real-time/hashtag_counts', methods=['GET'])\n",
    "def refresh_hashtagcounts():\n",
    "    global hashtag_counts\n",
    "    output = json.dumps(hashtag_counts)\n",
    "    print(output)\n",
    "    return output"
   ]
  },
  {
   "cell_type": "code",
   "execution_count": null,
   "id": "0533d26a",
   "metadata": {},
   "outputs": [],
   "source": [
    "@app.route('/real-time/sentiments', methods=['GET'])\n",
    "def refresh_sentiments():\n",
    "    global sentiments\n",
    "    print(sentiments)\n",
    "    return sentiments"
   ]
  },
  {
   "cell_type": "code",
   "execution_count": null,
   "id": "3eb49e9c",
   "metadata": {},
   "outputs": [],
   "source": [
    "@app.after_request\n",
    "def add_header(response):\n",
    "    response.headers['X-UA-Compatible'] = 'IE=Edge,chrome=1'\n",
    "    response.headers['Cache-Control'] = 'public, max-age=0'\n",
    "    return response"
   ]
  },
  {
   "cell_type": "code",
   "execution_count": null,
   "id": "d605f389",
   "metadata": {},
   "outputs": [],
   "source": [
    "if __name__ == '__main__':\n",
    "    app.run(debug=False)"
   ]
  },
  {
   "cell_type": "code",
   "execution_count": null,
   "id": "a1609a36",
   "metadata": {},
   "outputs": [],
   "source": []
  }
 ],
 "metadata": {
  "kernelspec": {
   "display_name": "Python 3",
   "language": "python",
   "name": "python3"
  },
  "language_info": {
   "codemirror_mode": {
    "name": "ipython",
    "version": 3
   },
   "file_extension": ".py",
   "mimetype": "text/x-python",
   "name": "python",
   "nbconvert_exporter": "python",
   "pygments_lexer": "ipython3",
   "version": "3.8.8"
  }
 },
 "nbformat": 4,
 "nbformat_minor": 5
}
