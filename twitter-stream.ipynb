{
 "cells": [
  {
   "cell_type": "code",
   "execution_count": null,
   "id": "87b46938",
   "metadata": {},
   "outputs": [],
   "source": [
    "import tweepy \n",
    "from tweepy import Stream \n",
    "from tweepy.streaming import StreamListener\n",
    "from tweepy import OAuthHandler\n",
    "import socket\n",
    "import json"
   ]
  },
  {
   "cell_type": "code",
   "execution_count": null,
   "id": "4d5d5155",
   "metadata": {},
   "outputs": [],
   "source": [
    "CONSUMER_KEY = \"consumer_key\"\n",
    "CONSUMER_SECRET = \"consumer_secret\"\n",
    "ACCESS_TOKEN = \"access_token\"\n",
    "ACCESS_SECRET = \"access_secret\""
   ]
  },
  {
   "cell_type": "code",
   "execution_count": null,
   "id": "d69fb42e",
   "metadata": {},
   "outputs": [],
   "source": [
    "keyword = ['covid-19', 'corona', 'covid', 'coronavirus', 'covid-19 india', 'coronavirus india']"
   ]
  },
  {
   "cell_type": "code",
   "execution_count": null,
   "id": "747c60d9",
   "metadata": {},
   "outputs": [],
   "source": [
    "class TwitterStreamer(StreamListener):\n",
    "    def __init__(self, csocket):\n",
    "        self.client_socket = csocket\n",
    "    def on_data(self, data):\n",
    "        try:\n",
    "            jdata = json.loads(data)\n",
    "            print(\"New data\")\n",
    "            if \"extended_tweet\" in jdata:\n",
    "                self.client_socket.send(data.encode())\n",
    "                #print(jdata['extended_tweet']['full_text'])\n",
    "            else:\n",
    "                self.client_socket.send(data.encode())\n",
    "                #print(jdata['text'])\n",
    "            print(jdata['coordinates'])\n",
    "            return True\n",
    "        except BaseException as e:\n",
    "            print('Error on_data %s' %str(e))\n",
    "        return True\n",
    "    \n",
    "    def on_error(self, status):\n",
    "        print(status)\n",
    "        return True\n",
    "              "
   ]
  },
  {
   "cell_type": "code",
   "execution_count": null,
   "id": "8b3ea2bc",
   "metadata": {},
   "outputs": [],
   "source": [
    "def sendData(c_socket, keyword):\n",
    "    print('Start sending data from Twitter to Socket')\n",
    "    auth = OAuthHandler(CONSUMER_KEY, CONSUMER_SECRET)\n",
    "    auth.set_access_token(ACCESS_TOKEN, ACCESS_SECRET)\n",
    "    stream = Stream(auth, TwitterStreamer(c_socket))\n",
    "    stream.filter(track=keyword, languages=['en'])"
   ]
  },
  {
   "cell_type": "code",
   "execution_count": null,
   "id": "b97c002d",
   "metadata": {},
   "outputs": [],
   "source": [
    "s = socket.socket()\n",
    "host = \"localhost\"\n",
    "port = 5555\n",
    "s.bind((host, port))\n",
    "print('Socket is ready')\n",
    "s.listen(4)\n",
    "print('Socket is listening')\n",
    "csocket, addr = s.accept()\n",
    "print('Received request from: ' + str(addr))\n",
    "sendData(csocket, keyword)"
   ]
  },
  {
   "cell_type": "code",
   "execution_count": null,
   "id": "3ec2b957",
   "metadata": {},
   "outputs": [],
   "source": []
  }
 ],
 "metadata": {
  "kernelspec": {
   "display_name": "Python 3",
   "language": "python",
   "name": "python3"
  },
  "language_info": {
   "codemirror_mode": {
    "name": "ipython",
    "version": 3
   },
   "file_extension": ".py",
   "mimetype": "text/x-python",
   "name": "python",
   "nbconvert_exporter": "python",
   "pygments_lexer": "ipython3",
   "version": "3.8.8"
  }
 },
 "nbformat": 4,
 "nbformat_minor": 5
}
