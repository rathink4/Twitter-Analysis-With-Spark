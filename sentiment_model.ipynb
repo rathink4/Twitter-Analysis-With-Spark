{
 "cells": [
  {
   "cell_type": "code",
   "execution_count": 3,
   "metadata": {
    "colab": {
     "base_uri": "https://localhost:8080/"
    },
    "id": "V3e7D0kUfRJ2",
    "outputId": "b7228d2a-a5df-4524-b25f-55a524295fd6"
   },
   "outputs": [
    {
     "name": "stderr",
     "output_type": "stream",
     "text": [
      "[nltk_data] Downloading package stopwords to /home/rathin/nltk_data...\n",
      "[nltk_data]   Package stopwords is already up-to-date!\n"
     ]
    }
   ],
   "source": [
    "import pandas as pd\n",
    "import re\n",
    "import nltk\n",
    "from nltk.corpus import stopwords\n",
    "from nltk.stem.porter import PorterStemmer\n",
    "from sklearn.feature_extraction.text import TfidfVectorizer\n",
    "from sklearn.model_selection import train_test_split\n",
    "from sklearn import svm, metrics\n",
    "nltk.download('stopwords')\n",
    "pd.options.mode.chained_assignment = None"
   ]
  },
  {
   "cell_type": "code",
   "execution_count": 6,
   "metadata": {
    "id": "ZiAl6EsJfZpl"
   },
   "outputs": [],
   "source": [
    "class TweetsClassifier:\n",
    "    # body of the constructor\n",
    "    def __init__(self):\n",
    "        self.__load_data() # read the dataset and delete the stopping words from it\n",
    "        self.__train_model() # split the dataset to training and testing, then use the training data to train the SVM model\n",
    "        self.__evaluate_mode() # use the testing dataset to evaluate the model and print its accuracy\n",
    "\n",
    "    def __load_data(self):\n",
    "        column_names = [\"target\", \"ids\", \"date\", \"flag\", \"user\", \"text\"]\n",
    "        #Download sentiment140.csv and place it in '/dataset' folder\n",
    "        self.dataset = pd.read_csv('dataset/sentiment140.csv',\n",
    "                                   header=None,\n",
    "                                   encoding='ISO-8859-1',\n",
    "                                   names=column_names,\n",
    "                                   skiprows=795000,\n",
    "                                   nrows=10000)\n",
    "        df = self.dataset[['text', 'target']]\n",
    "        df['target'] = df['target'].replace(4, 1)\n",
    "        self.corpus = []\n",
    "        for i in range(0, int(df.shape[0])):\n",
    "            text = re.sub('[^a-zA-z]', ' ', df['text'][i])\n",
    "            text = text.lower()\n",
    "            text = text.split()\n",
    "            ps = PorterStemmer()\n",
    "            all_stopwords = stopwords.words('english')\n",
    "            all_stopwords.remove('not')\n",
    "            text = [ps.stem(word) for word in text if not word in set(all_stopwords)]\n",
    "            text = ' '.join(text)\n",
    "            self.corpus.append(text)\n",
    "        self.target = df['target']\n",
    "        pass\n",
    "\n",
    "    def __train_model(self):\n",
    "        self.x_train, self.x_test, self.y_train, self.y_test = train_test_split(self.corpus, self.target)\n",
    "\n",
    "        self.Tfidf_Vectorizer = TfidfVectorizer(use_idf=True, stop_words='english')\n",
    "        tfs_training = self.Tfidf_Vectorizer.fit_transform(self.x_train).astype('float64')\n",
    "\n",
    "        # Create a svm Classifier\n",
    "        self.svm_classifier = svm.SVC(kernel='rbf')  # Linear Kernel\n",
    "\n",
    "        # Train the model using the training sets\n",
    "        self.svm_classifier.fit(tfs_training, self.y_train)\n",
    "        pass\n",
    "\n",
    "    def __evaluate_mode(self):\n",
    "        # Predict the response for test dataset\n",
    "        tfs_testing = self.Tfidf_Vectorizer.transform(self.x_test).astype('float64').todense()\n",
    "        self.y_predected = self.svm_classifier.predict(tfs_testing)\n",
    "        self.accuracy_score = metrics.accuracy_score(self.y_test, self.y_predected)\n",
    "\n",
    "        print(\"Accuracy:\", self.accuracy_score)\n",
    "        pass\n",
    "\n",
    "    def classify(self, list_of_tweets_text):\n",
    "        tweets_vectors = self.Tfidf_Vectorizer.transform(list_of_tweets_text).astype('float64')\n",
    "\n",
    "        return self.svm_classifier.predict(tweets_vectors)"
   ]
  },
  {
   "cell_type": "code",
   "execution_count": 7,
   "metadata": {
    "colab": {
     "base_uri": "https://localhost:8080/"
    },
    "id": "IBwpVc_VfmSW",
    "outputId": "34ebc9f6-2a9b-4b36-de83-52a4b498a7f9"
   },
   "outputs": [
    {
     "name": "stderr",
     "output_type": "stream",
     "text": [
      "/usr/local/lib/python3.8/dist-packages/sklearn/utils/validation.py:585: FutureWarning: np.matrix usage is deprecated in 1.0 and will raise a TypeError in 1.2. Please convert to a numpy array with np.asarray. For more information see: https://numpy.org/doc/stable/reference/generated/numpy.matrix.html\n",
      "  warnings.warn(\n"
     ]
    },
    {
     "name": "stdout",
     "output_type": "stream",
     "text": [
      "Accuracy: 0.7556\n",
      "[0 1 0]\n"
     ]
    }
   ],
   "source": [
    "classifier = TweetsClassifier() # build the classifier model and print its Accuracy\n",
    "print(classifier.classify([\"iam so sad\" , \"Hello, Its a good day\" , \"what a bad day\"])) # test the classifier"
   ]
  },
  {
   "cell_type": "code",
   "execution_count": 9,
   "metadata": {
    "id": "XKAacod3hvaf"
   },
   "outputs": [],
   "source": [
    "import pickle\n",
    "filename = 'finalized_classifier.sav'\n",
    "pickle.dump(classifier, open(filename, 'wb'))"
   ]
  },
  {
   "cell_type": "code",
   "execution_count": null,
   "metadata": {},
   "outputs": [],
   "source": []
  }
 ],
 "metadata": {
  "accelerator": "GPU",
  "colab": {
   "name": "sentiment-classifier.ipynb",
   "provenance": []
  },
  "kernelspec": {
   "display_name": "Python 3",
   "language": "python",
   "name": "python3"
  },
  "language_info": {
   "codemirror_mode": {
    "name": "ipython",
    "version": 3
   },
   "file_extension": ".py",
   "mimetype": "text/x-python",
   "name": "python",
   "nbconvert_exporter": "python",
   "pygments_lexer": "ipython3",
   "version": "3.8.8"
  }
 },
 "nbformat": 4,
 "nbformat_minor": 1
}
