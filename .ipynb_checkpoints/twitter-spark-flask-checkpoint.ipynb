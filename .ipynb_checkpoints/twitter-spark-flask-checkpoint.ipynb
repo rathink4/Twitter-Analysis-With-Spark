{
 "cells": [
  {
   "cell_type": "code",
   "execution_count": null,
   "id": "873be647",
   "metadata": {},
   "outputs": [],
   "source": [
    "from flask import Flask, render_template, request\n",
    "import sys, ast, os, json\n",
    "import plotly\n",
    "import plotly.graph_objects as go"
   ]
  },
  {
   "cell_type": "code",
   "execution_count": null,
   "id": "d549b135",
   "metadata": {},
   "outputs": [],
   "source": [
    "app = Flask(__name__)\n",
    "app.config['IMAGES_PATH'] = os.path.join('static', 'images')"
   ]
  },
  {
   "cell_type": "code",
   "execution_count": null,
   "id": "ecf8328a",
   "metadata": {},
   "outputs": [],
   "source": [
    "#tweets = {'users': ['RchavezRuben'], 'text': ['RT @KenDilanianNBC: Imagine if, two months ago, a competent federal government had led a World War II-level effort to ramp up production of…'], 'id': [123456789]}\n",
    "sentiments = {'positive': 0,'negative': 0, 'total': 0}\n",
    "hashtag_counts = {'words': ['#SocialDistancing'], 'counts': [16]}\n",
    "word_counts = {'words': ['COVID19', 'Quarantine'], 'counts': [16, 50]}\n",
    "#geodata = {'longitude': [-96.314445], 'latitude': [30.601389]}"
   ]
  },
  {
   "cell_type": "code",
   "execution_count": null,
   "id": "f5e07b32",
   "metadata": {},
   "outputs": [],
   "source": [
    "@app.route(\"/\")\n",
    "def home_page():\n",
    "    global sentiments\n",
    "    global hashtag_counts\n",
    "    global word_counts\n",
    "    global geodata\n",
    "    global graphJSON\n",
    "\n",
    "    print(\"word count variable\", file=sys.stderr)\n",
    "    print(word_counts, file=sys.stderr)\n",
    "    print(\"hashtag variable\", file=sys.stderr)\n",
    "    print(hashtag_counts, file=sys.stderr)\n",
    "    print(hashtag_counts['words'], file=sys.stderr)\n",
    "    \n",
    "    wc = dict(zip(hashtag_counts['words'], hashtag_counts['counts']))\n",
    "\n",
    "\n",
    "    return render_template(\n",
    "            'index.html',\n",
    "            sentiments=sentiments,\n",
    "            wordcounts=word_counts,\n",
    "            hashtagcounts=hashtag_counts)"
   ]
  },
  {
   "cell_type": "code",
   "execution_count": null,
   "id": "244cab97",
   "metadata": {},
   "outputs": [],
   "source": [
    "if __name__ == '__main__':\n",
    "    app.run(debug=False)"
   ]
  },
  {
   "cell_type": "code",
   "execution_count": null,
   "id": "23efcb88",
   "metadata": {},
   "outputs": [],
   "source": [
    "@app.route('/update_sentiments', methods=['POST'])\n",
    "def update_sentiments():\n",
    "    global sentiments\n",
    "\n",
    "    print(request.form)\n",
    "\n",
    "    sentiments['positive'] = ast.literal_eval(request.form['positive'])\n",
    "    sentiments['neutral'] = ast.literal_eval(request.form['neutral'])\n",
    "    sentiments['negative'] = ast.literal_eval(request.form['negative'])\n",
    "    sentiments['total'] = ast.literal_eval(request.form['total'])\n",
    "\n",
    "    if sentiments['total'] > 0:\n",
    "        sentiments['positive'] = round(100 * sentiments['positive'] / sentiments['total'], 2)\n",
    "        sentiments['neutral'] = round(100 * sentiments['neutral'] / sentiments['total'], 2)\n",
    "        sentiments['negative'] = round(100 * sentiments['negative'] / sentiments['total'], 2)\n",
    "\n",
    "    return \"success\", 200"
   ]
  },
  {
   "cell_type": "code",
   "execution_count": null,
   "id": "409173e0",
   "metadata": {},
   "outputs": [],
   "source": [
    "@app.route('/update_counts', methods=['POST'])\n",
    "def update_counts():\n",
    "    global word_counts\n",
    "    \n",
    "    print(request.form)\n",
    "    \n",
    "    word_counts['words'] = ast.literal_eval(request.form['words'])\n",
    "    word_counts['counts'] = ast.literal_eval(request.form['counts'])\n",
    "    print(\"Updated word counts - \",  word_counts)\n",
    "    return \"success\", 200"
   ]
  },
  {
   "cell_type": "code",
   "execution_count": null,
   "id": "f09826c2",
   "metadata": {},
   "outputs": [],
   "source": [
    "@app.route('/update_hashtagcounts', methods=['POST'])\n",
    "def update_hashtagcounts():\n",
    "    global hashtag_counts\n",
    "    \n",
    "    print(request.form)\n",
    "    \n",
    "    hashtag_counts['words'] = ast.literal_eval(request.form['words'])\n",
    "    hashtag_counts['counts'] = ast.literal_eval(request.form['counts'])\n",
    "    print(\"Updated hashtag counts - \",  hashtag_counts)\n",
    "    return \"success\", 200"
   ]
  },
  {
   "cell_type": "code",
   "execution_count": null,
   "id": "46533829",
   "metadata": {},
   "outputs": [],
   "source": [
    "@app.route('/word_counts', methods=['GET'])\n",
    "def refresh_counts():\n",
    "    global word_counts\n",
    "    output = json.dumps(word_counts)\n",
    "    print(output)\n",
    "    return output"
   ]
  },
  {
   "cell_type": "code",
   "execution_count": null,
   "id": "28adb796",
   "metadata": {},
   "outputs": [],
   "source": [
    "@app.route('/hashtag_counts', methods=['GET'])\n",
    "def refresh_hashtagcounts():\n",
    "    global hashtag_counts\n",
    "    output = json.dumps(hashtag_counts)\n",
    "    print(output)\n",
    "    return output"
   ]
  },
  {
   "cell_type": "code",
   "execution_count": null,
   "id": "9ab451d2",
   "metadata": {},
   "outputs": [],
   "source": [
    "@app.route('/sentiments', methods=['GET'])\n",
    "def refresh_sentiments():\n",
    "    global sentiments\n",
    "    print(sentiments)\n",
    "    return sentiments"
   ]
  },
  {
   "cell_type": "code",
   "execution_count": null,
   "id": "f3f8223d",
   "metadata": {},
   "outputs": [],
   "source": [
    "@app.after_request\n",
    "def add_header(response):\n",
    "    response.headers['X-UA-Compatible'] = 'IE=Edge,chrome=1'\n",
    "    response.headers['Cache-Control'] = 'public, max-age=0'\n",
    "    return response"
   ]
  },
  {
   "cell_type": "code",
   "execution_count": null,
   "id": "a7d1d225",
   "metadata": {},
   "outputs": [],
   "source": [
    "if __name__ == '__main__':\n",
    "    app.run(debug=False)"
   ]
  },
  {
   "cell_type": "code",
   "execution_count": null,
   "id": "c6615a86",
   "metadata": {},
   "outputs": [],
   "source": []
  }
 ],
 "metadata": {
  "kernelspec": {
   "display_name": "Python 3 (ipykernel)",
   "language": "python",
   "name": "python3"
  },
  "language_info": {
   "codemirror_mode": {
    "name": "ipython",
    "version": 3
   },
   "file_extension": ".py",
   "mimetype": "text/x-python",
   "name": "python",
   "nbconvert_exporter": "python",
   "pygments_lexer": "ipython3",
   "version": "3.8.10"
  }
 },
 "nbformat": 4,
 "nbformat_minor": 5
}
